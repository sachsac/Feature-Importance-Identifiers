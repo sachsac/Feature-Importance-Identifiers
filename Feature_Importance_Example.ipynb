{
  "nbformat": 4,
  "nbformat_minor": 0,
  "metadata": {
    "colab": {
      "name": "Feature Importance Example",
      "provenance": [],
      "mount_file_id": "1E-9imldpksqSjpLnbkEb8B9btreIHD7i",
      "authorship_tag": "ABX9TyPZBnYHX08H2SKPapZ8Ppaw",
      "include_colab_link": true
    },
    "kernelspec": {
      "name": "python3",
      "display_name": "Python 3"
    },
    "language_info": {
      "name": "python"
    }
  },
  "cells": [
    {
      "cell_type": "markdown",
      "metadata": {
        "id": "view-in-github",
        "colab_type": "text"
      },
      "source": [
        "<a href=\"https://colab.research.google.com/github/sachsac/Feature-Importance-Identifiers/blob/main/Feature_Importance_Example.ipynb\" target=\"_parent\"><img src=\"https://colab.research.google.com/assets/colab-badge.svg\" alt=\"Open In Colab\"/></a>"
      ]
    },
    {
      "cell_type": "code",
      "metadata": {
        "id": "-Vi6U-trCxeN"
      },
      "source": [
        "import matplotlib.pyplot as plt\n",
        "import pandas as pd\n",
        "from sklearn.model_selection import train_test_split\n",
        "from sklearn.ensemble import RandomForestRegressor\n",
        "from sklearn.metrics import r2_score"
      ],
      "execution_count": 36,
      "outputs": []
    },
    {
      "cell_type": "code",
      "metadata": {
        "colab": {
          "base_uri": "https://localhost:8080/",
          "height": 223
        },
        "id": "xRIvHr0JCy3e",
        "outputId": "42edc5c0-23c9-4157-c2ff-e3d1e9381707"
      },
      "source": [
        "KC_df = pd.read_csv('/content/drive/MyDrive/Coding Dojo/data set/kc_house_data.csv')\n",
        "KC_df.head()"
      ],
      "execution_count": 37,
      "outputs": [
        {
          "output_type": "execute_result",
          "data": {
            "text/html": [
              "<div>\n",
              "<style scoped>\n",
              "    .dataframe tbody tr th:only-of-type {\n",
              "        vertical-align: middle;\n",
              "    }\n",
              "\n",
              "    .dataframe tbody tr th {\n",
              "        vertical-align: top;\n",
              "    }\n",
              "\n",
              "    .dataframe thead th {\n",
              "        text-align: right;\n",
              "    }\n",
              "</style>\n",
              "<table border=\"1\" class=\"dataframe\">\n",
              "  <thead>\n",
              "    <tr style=\"text-align: right;\">\n",
              "      <th></th>\n",
              "      <th>id</th>\n",
              "      <th>date</th>\n",
              "      <th>price</th>\n",
              "      <th>bedrooms</th>\n",
              "      <th>bathrooms</th>\n",
              "      <th>sqft_living</th>\n",
              "      <th>sqft_lot</th>\n",
              "      <th>floors</th>\n",
              "      <th>waterfront</th>\n",
              "      <th>view</th>\n",
              "      <th>condition</th>\n",
              "      <th>grade</th>\n",
              "      <th>sqft_above</th>\n",
              "      <th>sqft_basement</th>\n",
              "      <th>yr_built</th>\n",
              "      <th>yr_renovated</th>\n",
              "      <th>zipcode</th>\n",
              "      <th>lat</th>\n",
              "      <th>long</th>\n",
              "      <th>sqft_living15</th>\n",
              "      <th>sqft_lot15</th>\n",
              "    </tr>\n",
              "  </thead>\n",
              "  <tbody>\n",
              "    <tr>\n",
              "      <th>0</th>\n",
              "      <td>7129300520</td>\n",
              "      <td>20141013T000000</td>\n",
              "      <td>221900.0</td>\n",
              "      <td>3</td>\n",
              "      <td>1.00</td>\n",
              "      <td>1180</td>\n",
              "      <td>5650</td>\n",
              "      <td>1.0</td>\n",
              "      <td>0</td>\n",
              "      <td>0</td>\n",
              "      <td>3</td>\n",
              "      <td>7</td>\n",
              "      <td>1180</td>\n",
              "      <td>0</td>\n",
              "      <td>1955</td>\n",
              "      <td>0</td>\n",
              "      <td>98178</td>\n",
              "      <td>47.5112</td>\n",
              "      <td>-122.257</td>\n",
              "      <td>1340</td>\n",
              "      <td>5650</td>\n",
              "    </tr>\n",
              "    <tr>\n",
              "      <th>1</th>\n",
              "      <td>6414100192</td>\n",
              "      <td>20141209T000000</td>\n",
              "      <td>538000.0</td>\n",
              "      <td>3</td>\n",
              "      <td>2.25</td>\n",
              "      <td>2570</td>\n",
              "      <td>7242</td>\n",
              "      <td>2.0</td>\n",
              "      <td>0</td>\n",
              "      <td>0</td>\n",
              "      <td>3</td>\n",
              "      <td>7</td>\n",
              "      <td>2170</td>\n",
              "      <td>400</td>\n",
              "      <td>1951</td>\n",
              "      <td>1991</td>\n",
              "      <td>98125</td>\n",
              "      <td>47.7210</td>\n",
              "      <td>-122.319</td>\n",
              "      <td>1690</td>\n",
              "      <td>7639</td>\n",
              "    </tr>\n",
              "    <tr>\n",
              "      <th>2</th>\n",
              "      <td>5631500400</td>\n",
              "      <td>20150225T000000</td>\n",
              "      <td>180000.0</td>\n",
              "      <td>2</td>\n",
              "      <td>1.00</td>\n",
              "      <td>770</td>\n",
              "      <td>10000</td>\n",
              "      <td>1.0</td>\n",
              "      <td>0</td>\n",
              "      <td>0</td>\n",
              "      <td>3</td>\n",
              "      <td>6</td>\n",
              "      <td>770</td>\n",
              "      <td>0</td>\n",
              "      <td>1933</td>\n",
              "      <td>0</td>\n",
              "      <td>98028</td>\n",
              "      <td>47.7379</td>\n",
              "      <td>-122.233</td>\n",
              "      <td>2720</td>\n",
              "      <td>8062</td>\n",
              "    </tr>\n",
              "    <tr>\n",
              "      <th>3</th>\n",
              "      <td>2487200875</td>\n",
              "      <td>20141209T000000</td>\n",
              "      <td>604000.0</td>\n",
              "      <td>4</td>\n",
              "      <td>3.00</td>\n",
              "      <td>1960</td>\n",
              "      <td>5000</td>\n",
              "      <td>1.0</td>\n",
              "      <td>0</td>\n",
              "      <td>0</td>\n",
              "      <td>5</td>\n",
              "      <td>7</td>\n",
              "      <td>1050</td>\n",
              "      <td>910</td>\n",
              "      <td>1965</td>\n",
              "      <td>0</td>\n",
              "      <td>98136</td>\n",
              "      <td>47.5208</td>\n",
              "      <td>-122.393</td>\n",
              "      <td>1360</td>\n",
              "      <td>5000</td>\n",
              "    </tr>\n",
              "    <tr>\n",
              "      <th>4</th>\n",
              "      <td>1954400510</td>\n",
              "      <td>20150218T000000</td>\n",
              "      <td>510000.0</td>\n",
              "      <td>3</td>\n",
              "      <td>2.00</td>\n",
              "      <td>1680</td>\n",
              "      <td>8080</td>\n",
              "      <td>1.0</td>\n",
              "      <td>0</td>\n",
              "      <td>0</td>\n",
              "      <td>3</td>\n",
              "      <td>8</td>\n",
              "      <td>1680</td>\n",
              "      <td>0</td>\n",
              "      <td>1987</td>\n",
              "      <td>0</td>\n",
              "      <td>98074</td>\n",
              "      <td>47.6168</td>\n",
              "      <td>-122.045</td>\n",
              "      <td>1800</td>\n",
              "      <td>7503</td>\n",
              "    </tr>\n",
              "  </tbody>\n",
              "</table>\n",
              "</div>"
            ],
            "text/plain": [
              "           id             date     price  ...     long  sqft_living15  sqft_lot15\n",
              "0  7129300520  20141013T000000  221900.0  ... -122.257           1340        5650\n",
              "1  6414100192  20141209T000000  538000.0  ... -122.319           1690        7639\n",
              "2  5631500400  20150225T000000  180000.0  ... -122.233           2720        8062\n",
              "3  2487200875  20141209T000000  604000.0  ... -122.393           1360        5000\n",
              "4  1954400510  20150218T000000  510000.0  ... -122.045           1800        7503\n",
              "\n",
              "[5 rows x 21 columns]"
            ]
          },
          "metadata": {},
          "execution_count": 37
        }
      ]
    },
    {
      "cell_type": "code",
      "metadata": {
        "id": "r2-qiNkMC-QX"
      },
      "source": [
        "#assign target and features\n",
        "y = KC_df['price']\n",
        "X = KC_df.drop(columns = ['price', 'id', 'date'])"
      ],
      "execution_count": 38,
      "outputs": []
    },
    {
      "cell_type": "code",
      "metadata": {
        "id": "XMFIhpB3DAED"
      },
      "source": [
        "#traintest split\n",
        "X_train, X_test, y_train, y_test = train_test_split(X, y, random_state=42)"
      ],
      "execution_count": 39,
      "outputs": []
    },
    {
      "cell_type": "markdown",
      "metadata": {
        "id": "SUspA0JkCWei"
      },
      "source": [
        "#random forest "
      ]
    },
    {
      "cell_type": "code",
      "metadata": {
        "colab": {
          "base_uri": "https://localhost:8080/"
        },
        "id": "6ULdTAGVDAiI",
        "outputId": "ce619500-e922-492d-d4b7-7f375dc0ba10"
      },
      "source": [
        "rf = RandomForestRegressor(random_state=42)\n",
        "rf"
      ],
      "execution_count": 40,
      "outputs": [
        {
          "output_type": "execute_result",
          "data": {
            "text/plain": [
              "RandomForestRegressor(bootstrap=True, ccp_alpha=0.0, criterion='mse',\n",
              "                      max_depth=None, max_features='auto', max_leaf_nodes=None,\n",
              "                      max_samples=None, min_impurity_decrease=0.0,\n",
              "                      min_impurity_split=None, min_samples_leaf=1,\n",
              "                      min_samples_split=2, min_weight_fraction_leaf=0.0,\n",
              "                      n_estimators=100, n_jobs=None, oob_score=False,\n",
              "                      random_state=42, verbose=0, warm_start=False)"
            ]
          },
          "metadata": {},
          "execution_count": 40
        }
      ]
    },
    {
      "cell_type": "code",
      "metadata": {
        "colab": {
          "base_uri": "https://localhost:8080/"
        },
        "id": "BBYnoG1RDc-W",
        "outputId": "5e6e4ce4-9237-442b-d4a5-b8aa0e1aedb2"
      },
      "source": [
        "rf.fit(X_train, y_train)"
      ],
      "execution_count": 41,
      "outputs": [
        {
          "output_type": "execute_result",
          "data": {
            "text/plain": [
              "RandomForestRegressor(bootstrap=True, ccp_alpha=0.0, criterion='mse',\n",
              "                      max_depth=None, max_features='auto', max_leaf_nodes=None,\n",
              "                      max_samples=None, min_impurity_decrease=0.0,\n",
              "                      min_impurity_split=None, min_samples_leaf=1,\n",
              "                      min_samples_split=2, min_weight_fraction_leaf=0.0,\n",
              "                      n_estimators=100, n_jobs=None, oob_score=False,\n",
              "                      random_state=42, verbose=0, warm_start=False)"
            ]
          },
          "metadata": {},
          "execution_count": 41
        }
      ]
    },
    {
      "cell_type": "code",
      "metadata": {
        "colab": {
          "base_uri": "https://localhost:8080/"
        },
        "id": "ex8QKkcoDyrH",
        "outputId": "f793dffe-f289-4313-cd0a-7c8a7a13ab91"
      },
      "source": [
        "print('Random Forest Training Scores:', r2_score(y_train, rf.predict(X_train)))\n",
        "print('Random Forest Testing Scores:', r2_score(y_test, rf.predict(X_test)))"
      ],
      "execution_count": 42,
      "outputs": [
        {
          "output_type": "stream",
          "name": "stdout",
          "text": [
            "Random Forest Training Scores: 0.9822974687040884\n",
            "Random Forest Testing Scores: 0.867119147433169\n"
          ]
        }
      ]
    },
    {
      "cell_type": "markdown",
      "metadata": {
        "id": "rfPnd1Mpv-kb"
      },
      "source": [
        "#Importance"
      ]
    },
    {
      "cell_type": "markdown",
      "metadata": {
        "id": "LrWlDiAkh8Ya"
      },
      "source": [
        "##How it was done before \n",
        "Displayed as an array"
      ]
    },
    {
      "cell_type": "code",
      "metadata": {
        "colab": {
          "base_uri": "https://localhost:8080/"
        },
        "id": "54n0VtsahFx6",
        "outputId": "47beef48-a7c6-420e-b58d-42f922028663"
      },
      "source": [
        "rf.feature_importances_"
      ],
      "execution_count": 43,
      "outputs": [
        {
          "output_type": "execute_result",
          "data": {
            "text/plain": [
              "array([0.00286812, 0.01046085, 0.25133288, 0.01360806, 0.00193086,\n",
              "       0.02964955, 0.01061545, 0.00296464, 0.33616096, 0.02075849,\n",
              "       0.00532124, 0.03731132, 0.00222625, 0.01509868, 0.15103039,\n",
              "       0.06257352, 0.03294906, 0.01313967])"
            ]
          },
          "metadata": {},
          "execution_count": 43
        }
      ]
    },
    {
      "cell_type": "markdown",
      "metadata": {
        "id": "aJIZ6CzmiU7j"
      },
      "source": [
        "##Next Step of Elevation\n",
        "Making our array match up with the feature in rows, by column keys."
      ]
    },
    {
      "cell_type": "code",
      "metadata": {
        "colab": {
          "base_uri": "https://localhost:8080/",
          "height": 585
        },
        "id": "jYnXElF7dE5Q",
        "outputId": "4c41110f-7394-469b-83fa-117f993bee83"
      },
      "source": [
        "importance = rf.feature_importances_\n",
        "# summarize feature importance\n",
        "for i,v in enumerate(importance):\n",
        "\tprint('Feature: %0d, Score: %.5f' % (i,v))\n",
        "# plot feature importance\n",
        "plt.bar([x for x in range(len(importance))], importance);\n",
        "plt.xlim(-0.5,17.5); #code from https://machinelearningmastery.com/calculate-feature-importance-with-python/ for formatting"
      ],
      "execution_count": 44,
      "outputs": [
        {
          "output_type": "stream",
          "name": "stdout",
          "text": [
            "Feature: 0, Score: 0.00287\n",
            "Feature: 1, Score: 0.01046\n",
            "Feature: 2, Score: 0.25133\n",
            "Feature: 3, Score: 0.01361\n",
            "Feature: 4, Score: 0.00193\n",
            "Feature: 5, Score: 0.02965\n",
            "Feature: 6, Score: 0.01062\n",
            "Feature: 7, Score: 0.00296\n",
            "Feature: 8, Score: 0.33616\n",
            "Feature: 9, Score: 0.02076\n",
            "Feature: 10, Score: 0.00532\n",
            "Feature: 11, Score: 0.03731\n",
            "Feature: 12, Score: 0.00223\n",
            "Feature: 13, Score: 0.01510\n",
            "Feature: 14, Score: 0.15103\n",
            "Feature: 15, Score: 0.06257\n",
            "Feature: 16, Score: 0.03295\n",
            "Feature: 17, Score: 0.01314\n"
          ]
        },
        {
          "output_type": "display_data",
          "data": {
            "image/png": "[encoded data removed]",
            "text/plain": [
              "<Figure size 432x288 with 1 Axes>"
            ]
          },
          "metadata": {
            "needs_background": "light"
          }
        }
      ]
    },
    {
      "cell_type": "markdown",
      "metadata": {
        "id": "2LlquhQvk1_K"
      },
      "source": [
        "Looking online, the above was the easiest way I could find that would match up features with their scores (that example was with coefficients as importances)."
      ]
    },
    {
      "cell_type": "code",
      "metadata": {
        "id": "H7eL5FKgfLjb",
        "colab": {
          "base_uri": "https://localhost:8080/",
          "height": 100
        },
        "outputId": "29850f8b-97dc-4909-9470-e805d6f91d37"
      },
      "source": [
        "#because the features were only identified via their column numbers (0- 17), I needed to display the features (X) to manually count to identify the columns by number.\n",
        "X.head(1)\n",
        "#highest importances: 8 is grade, 2 is sqftliving , 14 is latitude"
      ],
      "execution_count": 45,
      "outputs": [
        {
          "output_type": "execute_result",
          "data": {
            "text/html": [
              "<div>\n",
              "<style scoped>\n",
              "    .dataframe tbody tr th:only-of-type {\n",
              "        vertical-align: middle;\n",
              "    }\n",
              "\n",
              "    .dataframe tbody tr th {\n",
              "        vertical-align: top;\n",
              "    }\n",
              "\n",
              "    .dataframe thead th {\n",
              "        text-align: right;\n",
              "    }\n",
              "</style>\n",
              "<table border=\"1\" class=\"dataframe\">\n",
              "  <thead>\n",
              "    <tr style=\"text-align: right;\">\n",
              "      <th></th>\n",
              "      <th>bedrooms</th>\n",
              "      <th>bathrooms</th>\n",
              "      <th>sqft_living</th>\n",
              "      <th>sqft_lot</th>\n",
              "      <th>floors</th>\n",
              "      <th>waterfront</th>\n",
              "      <th>view</th>\n",
              "      <th>condition</th>\n",
              "      <th>grade</th>\n",
              "      <th>sqft_above</th>\n",
              "      <th>sqft_basement</th>\n",
              "      <th>yr_built</th>\n",
              "      <th>yr_renovated</th>\n",
              "      <th>zipcode</th>\n",
              "      <th>lat</th>\n",
              "      <th>long</th>\n",
              "      <th>sqft_living15</th>\n",
              "      <th>sqft_lot15</th>\n",
              "    </tr>\n",
              "  </thead>\n",
              "  <tbody>\n",
              "    <tr>\n",
              "      <th>0</th>\n",
              "      <td>3</td>\n",
              "      <td>1.0</td>\n",
              "      <td>1180</td>\n",
              "      <td>5650</td>\n",
              "      <td>1.0</td>\n",
              "      <td>0</td>\n",
              "      <td>0</td>\n",
              "      <td>3</td>\n",
              "      <td>7</td>\n",
              "      <td>1180</td>\n",
              "      <td>0</td>\n",
              "      <td>1955</td>\n",
              "      <td>0</td>\n",
              "      <td>98178</td>\n",
              "      <td>47.5112</td>\n",
              "      <td>-122.257</td>\n",
              "      <td>1340</td>\n",
              "      <td>5650</td>\n",
              "    </tr>\n",
              "  </tbody>\n",
              "</table>\n",
              "</div>"
            ],
            "text/plain": [
              "   bedrooms  bathrooms  sqft_living  ...     long  sqft_living15  sqft_lot15\n",
              "0         3        1.0         1180  ... -122.257           1340        5650\n",
              "\n",
              "[1 rows x 18 columns]"
            ]
          },
          "metadata": {},
          "execution_count": 45
        }
      ]
    },
    {
      "cell_type": "markdown",
      "metadata": {
        "id": "Lm7wU-qwwIqG"
      },
      "source": [
        "The grade and sqft of living area are the most important features. But it was a pain to manually count the features to see which was what; imagine if we had a dataframe with 20+ columns!"
      ]
    },
    {
      "cell_type": "markdown",
      "metadata": {
        "id": "O4cQf9OYi4z7"
      },
      "source": [
        "##My code\n",
        "While attempting to help a classmate, I starting playing around with code and was able to find a way to create a minidataframe that would achieve what I was looking to do: identify the feature importances readily."
      ]
    },
    {
      "cell_type": "code",
      "metadata": {
        "colab": {
          "base_uri": "https://localhost:8080/",
          "height": 603
        },
        "id": "5-VjEtrlz2cV",
        "outputId": "1ed87828-7739-4b5d-e4f7-bbae95dac218"
      },
      "source": [
        "data = {'Feature': X.columns, 'Importance': rf.feature_importances_}\n",
        "feature_importances = pd.DataFrame(data)\n",
        "feature_importances"
      ],
      "execution_count": 46,
      "outputs": [
        {
          "output_type": "execute_result",
          "data": {
            "text/html": [
              "<div>\n",
              "<style scoped>\n",
              "    .dataframe tbody tr th:only-of-type {\n",
              "        vertical-align: middle;\n",
              "    }\n",
              "\n",
              "    .dataframe tbody tr th {\n",
              "        vertical-align: top;\n",
              "    }\n",
              "\n",
              "    .dataframe thead th {\n",
              "        text-align: right;\n",
              "    }\n",
              "</style>\n",
              "<table border=\"1\" class=\"dataframe\">\n",
              "  <thead>\n",
              "    <tr style=\"text-align: right;\">\n",
              "      <th></th>\n",
              "      <th>Feature</th>\n",
              "      <th>Importance</th>\n",
              "    </tr>\n",
              "  </thead>\n",
              "  <tbody>\n",
              "    <tr>\n",
              "      <th>0</th>\n",
              "      <td>bedrooms</td>\n",
              "      <td>0.002868</td>\n",
              "    </tr>\n",
              "    <tr>\n",
              "      <th>1</th>\n",
              "      <td>bathrooms</td>\n",
              "      <td>0.010461</td>\n",
              "    </tr>\n",
              "    <tr>\n",
              "      <th>2</th>\n",
              "      <td>sqft_living</td>\n",
              "      <td>0.251333</td>\n",
              "    </tr>\n",
              "    <tr>\n",
              "      <th>3</th>\n",
              "      <td>sqft_lot</td>\n",
              "      <td>0.013608</td>\n",
              "    </tr>\n",
              "    <tr>\n",
              "      <th>4</th>\n",
              "      <td>floors</td>\n",
              "      <td>0.001931</td>\n",
              "    </tr>\n",
              "    <tr>\n",
              "      <th>5</th>\n",
              "      <td>waterfront</td>\n",
              "      <td>0.029650</td>\n",
              "    </tr>\n",
              "    <tr>\n",
              "      <th>6</th>\n",
              "      <td>view</td>\n",
              "      <td>0.010615</td>\n",
              "    </tr>\n",
              "    <tr>\n",
              "      <th>7</th>\n",
              "      <td>condition</td>\n",
              "      <td>0.002965</td>\n",
              "    </tr>\n",
              "    <tr>\n",
              "      <th>8</th>\n",
              "      <td>grade</td>\n",
              "      <td>0.336161</td>\n",
              "    </tr>\n",
              "    <tr>\n",
              "      <th>9</th>\n",
              "      <td>sqft_above</td>\n",
              "      <td>0.020758</td>\n",
              "    </tr>\n",
              "    <tr>\n",
              "      <th>10</th>\n",
              "      <td>sqft_basement</td>\n",
              "      <td>0.005321</td>\n",
              "    </tr>\n",
              "    <tr>\n",
              "      <th>11</th>\n",
              "      <td>yr_built</td>\n",
              "      <td>0.037311</td>\n",
              "    </tr>\n",
              "    <tr>\n",
              "      <th>12</th>\n",
              "      <td>yr_renovated</td>\n",
              "      <td>0.002226</td>\n",
              "    </tr>\n",
              "    <tr>\n",
              "      <th>13</th>\n",
              "      <td>zipcode</td>\n",
              "      <td>0.015099</td>\n",
              "    </tr>\n",
              "    <tr>\n",
              "      <th>14</th>\n",
              "      <td>lat</td>\n",
              "      <td>0.151030</td>\n",
              "    </tr>\n",
              "    <tr>\n",
              "      <th>15</th>\n",
              "      <td>long</td>\n",
              "      <td>0.062574</td>\n",
              "    </tr>\n",
              "    <tr>\n",
              "      <th>16</th>\n",
              "      <td>sqft_living15</td>\n",
              "      <td>0.032949</td>\n",
              "    </tr>\n",
              "    <tr>\n",
              "      <th>17</th>\n",
              "      <td>sqft_lot15</td>\n",
              "      <td>0.013140</td>\n",
              "    </tr>\n",
              "  </tbody>\n",
              "</table>\n",
              "</div>"
            ],
            "text/plain": [
              "          Feature  Importance\n",
              "0        bedrooms    0.002868\n",
              "1       bathrooms    0.010461\n",
              "2     sqft_living    0.251333\n",
              "3        sqft_lot    0.013608\n",
              "4          floors    0.001931\n",
              "5      waterfront    0.029650\n",
              "6            view    0.010615\n",
              "7       condition    0.002965\n",
              "8           grade    0.336161\n",
              "9      sqft_above    0.020758\n",
              "10  sqft_basement    0.005321\n",
              "11       yr_built    0.037311\n",
              "12   yr_renovated    0.002226\n",
              "13        zipcode    0.015099\n",
              "14            lat    0.151030\n",
              "15           long    0.062574\n",
              "16  sqft_living15    0.032949\n",
              "17     sqft_lot15    0.013140"
            ]
          },
          "metadata": {},
          "execution_count": 46
        }
      ]
    },
    {
      "cell_type": "code",
      "metadata": {
        "colab": {
          "base_uri": "https://localhost:8080/"
        },
        "id": "ECkKJtUz4wu8",
        "outputId": "ef6f4d08-1ddb-4178-ba4c-d4dbd4c2a716"
      },
      "source": [
        "feature_importances['Importance'].sum()\n",
        "#all feature importances should add up to close to 1"
      ],
      "execution_count": 47,
      "outputs": [
        {
          "output_type": "execute_result",
          "data": {
            "text/plain": [
              "1.0000000000000002"
            ]
          },
          "metadata": {},
          "execution_count": 47
        }
      ]
    },
    {
      "cell_type": "code",
      "metadata": {
        "colab": {
          "base_uri": "https://localhost:8080/",
          "height": 357
        },
        "id": "1y-F-iFY_aNZ",
        "outputId": "82d81b76-3082-4b4f-cdbf-8d920453df5a"
      },
      "source": [
        "#once I shared my above code with TAs, I adapted code sent to me by one of them in order to graph the above, making it even easier to look at\n",
        "rf_features = pd.DataFrame({'feature': X_train.columns, 'feature_importance': rf.feature_importances_})\n",
        "rf_features.sort_values(by = 'feature_importance', inplace = True)\n",
        "\n",
        "plt.figure(figsize = (12, 5))\n",
        "plt.barh(rf_features['feature'], rf_features['feature_importance'])\n",
        "plt.xlabel('Importance Score', fontsize = 13)\n",
        "plt.xticks(fontsize = 12)\n",
        "plt.ylabel('Features', fontsize = 13)\n",
        "plt.yticks(fontsize = 12)\n",
        "plt.title('Feature Importances in our Model', fontsize = 14);"
      ],
      "execution_count": 48,
      "outputs": [
        {
          "output_type": "display_data",
          "data": {
            "image/png": "[encoded data removed]",
            "text/plain": [
              "<Figure size 864x360 with 1 Axes>"
            ]
          },
          "metadata": {
            "needs_background": "light"
          }
        }
      ]
    },
    {
      "cell_type": "markdown",
      "metadata": {
        "id": "mUyf98WbwYXw"
      },
      "source": [
        "My code in the last section above is a great way to make it easier to visualize and effortlessly identify which features are the most important to our models.\n",
        "\n",
        "This works for any model which allows feature_importances_, i.e. Random Forests."
      ]
    }
  ]
}